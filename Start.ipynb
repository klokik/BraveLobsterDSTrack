{
 "cells": [
  {
   "cell_type": "code",
   "execution_count": null,
   "metadata": {},
   "outputs": [],
   "source": [
    "import numpy as np\n",
    "import pandas as pd\n",
    "import pandas_profiling as pp\n",
    "\n",
    "import warnings\n",
    "warnings.filterwarnings('ignore')\n",
    "\n",
    "from geopy.distance import geodesic\n",
    "\n",
    "df = pd.read_csv(\"data_hackathon_v04.csv\", sep=\"|\", parse_dates=[\"created_at\"], index_col=\"ride_id\")"
   ]
  },
  {
   "cell_type": "code",
   "execution_count": null,
   "metadata": {},
   "outputs": [],
   "source": [
    "from h3 import h3\n",
    "\n",
    "df[\"cell_id\"] = df[[\"pickup_lat\",\"pickup_lng\"]].apply(lambda x: h3.geo_to_h3(*x, 7), axis=1)"
   ]
  },
  {
   "cell_type": "code",
   "execution_count": null,
   "metadata": {},
   "outputs": [],
   "source": [
    "def make_df_time(df):\n",
    "    df_time = df[[\"created_at\"]]\n",
    "\n",
    "    df_time[\"day\"] = df_time.created_at.dt.day\n",
    "    df_time[\"month\"] = df_time.created_at.dt.month\n",
    "    df_time[\"year\"] = df_time.created_at.dt.year\n",
    "    df_time[\"is_year_start\"] = np.int8(df_time.created_at.dt.is_year_start)\n",
    "    df_time[\"is_year_end\"] = np.int8(df_time.created_at.dt.is_year_end)\n",
    "    df_time[\"dayofyear\"] = df_time.created_at.dt.dayofyear\n",
    "    df_time[\"dayofweek\"] = df_time.created_at.dt.dayofweek\n",
    "\n",
    "    df_time[\"week\"] = df_time.created_at.dt.week\n",
    "\n",
    "    df_time[\"hour\"] = df_time.created_at.dt.hour\n",
    "    df_time[\"minute\"] = df_time.created_at.dt.minute\n",
    "    df_time[\"final_time\"] = (df_time[\"hour\"] + df_time[\"minute\"] // 30) % 24\n",
    "    df_time[\"dayofweek\"] = df_time.created_at.dt.dayofweek\n",
    "    df_time[\"is_weekend\"] = df_time[\"dayofweek\"] // 5\n",
    "\n",
    "    df_time.drop([\"created_at\"], inplace=True, axis=1)\n",
    "    return df_time\n",
    "\n",
    "def in_square(x, y):\n",
    "    square = (49.895468, 23.907734, 49.769849, 24.121698)\n",
    "    return (square[2] <= x <= square[0]) and (square[1] <= y <= square[3])\n",
    "\n",
    "def clear_df(df):\n",
    "    df[\"in_Lviv\"] = (df[[\"pickup_lat\", \"pickup_lng\"]].apply(lambda x: in_square(*x), axis=1) & df[[\"dropoff_lat\", \"dropoff_lng\"]].apply(lambda x: in_square(*x), axis=1))\n",
    "    df = df[df[\"in_Lviv\"]]\n",
    "    df[\"simple_distance\"] = np.array(list(map(lambda x: geodesic(x[:2], x[2:]).km, \n",
    "                                          df[[\"pickup_lat\", \"pickup_lng\", \"dropoff_lat\", \"dropoff_lng\"]].values)))\n",
    "    df = df[abs(df[\"simple_distance\"] - df[\"ride_distance\"]) < 10]\n",
    "    df.drop([\"in_Lviv\", \"simple_distance\"], axis=1, inplace=True)\n",
    "    return df\n",
    "\n",
    "def add_agg(df_in, df_out, group_by, name, aggs, add_name):\n",
    "    if \"mode\" in aggs:\n",
    "        aggs.remove(\"mode\")\n",
    "        _ = df_in.groupby(group_by)[name].agg(aggs)\n",
    "        _[\"mode\"] = df_in.groupby(group_by)[name].apply(lambda x: np.bincount(x).argmax())\n",
    "    else:\n",
    "        _ = df_in.groupby(group_by)[name].agg(aggs)\n",
    "    _.columns = [\"_\".join([add_name, group_by, name, column]) for column in _.columns]\n",
    "    return df_out.merge(_, left_index=True, right_index=True, how=\"left\")\n",
    "\n",
    "def make_aggs(df, name, days, LAST_DAY):\n",
    "    df__ = pd.DataFrame(index=df[name].unique())\n",
    "\n",
    "    df_ = df[(LAST_DAY - df.created_at).dt.days > 0]\n",
    "    df__ = add_agg(df_, df__, name, \"canceled_by_client\", [\"mean\", \"median\", \"std\", \"count\"], \"all\")\n",
    "    df__ = df__[df__[f\"all_{name}_canceled_by_client_count\"] > days]\n",
    "    df__ = add_agg(df_, df__, name, \"canceled_by_driver\", [\"mean\", \"median\", \"std\"], \"all\")\n",
    "    df__ = add_agg(df_, df__, name, \"ride_to_suburb\", [\"mean\", \"std\"], \"all\")\n",
    "    df__ = add_agg(df_, df__, name, 'ride_distance', [\"mean\", \"std\", \"median\", \"min\", \"max\"], \"all\")\n",
    "    df__ = add_agg(df_, df__, name, 'dayofweek', [\"median\", \"mode\"], \"all\")\n",
    "    df__ = add_agg(df_, df__, name, 'final_time', [\"median\", \"mode\"], \"all\")\n",
    "    df__ = add_agg(df_, df__, name, 'is_weekend', [\"median\", \"std\", \"mean\", \"mode\"], \"all\")\n",
    "    \n",
    "    df_ = df[(LAST_DAY - df.created_at).dt.days // 8 == 0]\n",
    "    df__ = add_agg(df_, df__, name, \"canceled_by_client\", [\"mean\", \"median\", \"std\", \"count\"], \"3_month\")\n",
    "    df__ = add_agg(df_, df__, name, \"canceled_by_driver\", [\"mean\", \"median\", \"std\"], \"3_month\")\n",
    "    df__ = add_agg(df_, df__, name, \"ride_to_suburb\", [\"mean\", \"std\"], \"3_month\")\n",
    "    df__ = add_agg(df_, df__, name, 'ride_distance', [\"mean\", \"std\", \"median\", \"min\", \"max\"], \"3_month\")\n",
    "    df__ = add_agg(df_, df__, name, 'dayofweek', [\"median\", \"mode\"], \"3_month\")\n",
    "    df__ = add_agg(df_, df__, name, 'final_time', [\"median\", \"mode\"], \"3_month\")\n",
    "    df__ = add_agg(df_, df__, name, 'is_weekend', [\"median\", \"std\", \"mean\", \"mode\"], \"3_month\")\n",
    "\n",
    "    df_ = df[(LAST_DAY - df.created_at).dt.days // 6 == 0]\n",
    "    df__ = add_agg(df_, df__, name, \"canceled_by_client\", [\"mean\", \"median\", \"std\", \"count\"], \"3_month\")\n",
    "    df__ = add_agg(df_, df__, name, \"canceled_by_driver\", [\"mean\", \"median\", \"std\"], \"3_month\")\n",
    "    df__ = add_agg(df_, df__, name, \"ride_to_suburb\", [\"mean\", \"std\"], \"3_month\")\n",
    "    df__ = add_agg(df_, df__, name, 'ride_distance', [\"mean\", \"std\", \"median\", \"min\", \"max\"], \"3_month\")\n",
    "    df__ = add_agg(df_, df__, name, 'dayofweek', [\"median\", \"mode\"], \"3_month\")\n",
    "    df__ = add_agg(df_, df__, name, 'final_time', [\"median\", \"mode\"], \"3_month\")\n",
    "    df__ = add_agg(df_, df__, name, 'is_weekend', [\"median\", \"std\", \"mean\", \"mode\"], \"3_month\")\n",
    "\n",
    "    df_ = df[(LAST_DAY - df.created_at).dt.days // 4 == 0]\n",
    "    df__ = add_agg(df_, df__, name, \"canceled_by_client\", [\"mean\", \"median\", \"std\", \"count\"], \"month\")\n",
    "    df__ = add_agg(df_, df__, name, \"canceled_by_driver\", [\"mean\", \"median\", \"std\"], \"month\")\n",
    "    df__ = add_agg(df_, df__, name, \"ride_to_suburb\", [\"mean\", \"std\"], \"month\")\n",
    "    df__ = add_agg(df_, df__, name, 'ride_distance', [\"mean\", \"std\", \"median\", \"min\", \"max\"], \"month\")\n",
    "    df__ = add_agg(df_, df__, name, 'dayofweek', [\"median\", \"mode\"], \"month\")\n",
    "    df__ = add_agg(df_, df__, name, 'final_time', [\"median\", \"mode\"], \"month\")\n",
    "    df__ = add_agg(df_, df__, name, 'is_weekend', [\"median\", \"std\", \"mean\", \"mode\"], \"month\")\n",
    "    df__[f\"{name}_active\"] = df__.index.isin(df_[name])\n",
    "\n",
    "    df_ = df[(LAST_DAY - df.created_at).dt.days // 3 == 0]\n",
    "    df__ = add_agg(df_, df__, name, \"canceled_by_client\", [\"mean\", \"median\", \"std\", \"count\"], \"week\")\n",
    "    df__ = add_agg(df_, df__, name, \"canceled_by_driver\", [\"mean\", \"median\", \"std\"], \"week\")\n",
    "    df__ = add_agg(df_, df__, name, \"ride_to_suburb\", [\"mean\", \"std\"], \"week\")\n",
    "    df__ = add_agg(df_, df__, name, 'ride_distance', [\"mean\", \"std\", \"median\", \"min\", \"max\"], \"week\")\n",
    "    df__ = add_agg(df_, df__, name, 'dayofweek', [\"median\", \"mode\"], \"week\")\n",
    "    df__ = add_agg(df_, df__, name, 'final_time', [\"median\", \"mode\"], \"week\")\n",
    "    df__ = add_agg(df_, df__, name, 'is_weekend', [\"median\", \"std\", \"mean\", \"mode\"], \"week\")\n",
    "\n",
    "    df_ = df[(LAST_DAY - df.created_at).dt.days // 2 == 0]\n",
    "    df__ = add_agg(df_, df__, name, \"canceled_by_client\", [\"mean\", \"median\", \"std\", \"count\"], \"day\")\n",
    "    df__ = add_agg(df_, df__, name, \"canceled_by_driver\", [\"mean\", \"median\", \"std\"], \"day\")\n",
    "    df__ = add_agg(df_, df__, name, \"ride_to_suburb\", [\"mean\", \"std\"], \"day\")\n",
    "    df__ = add_agg(df_, df__, name, 'ride_distance', [\"mean\", \"std\", \"median\", \"min\", \"max\"], \"day\")\n",
    "    df__ = add_agg(df_, df__, name, 'dayofweek', [\"median\", \"mode\"], \"day\")\n",
    "    df__ = add_agg(df_, df__, name, 'final_time', [\"median\", \"mode\"], \"day\")\n",
    "    df__ = add_agg(df_, df__, name, 'is_weekend', [\"median\", \"std\", \"mean\", \"mode\"], \"day\")\n",
    "    print(df__.shape)\n",
    "    df__.fillna(0.0, inplace=True)\n",
    "    return df__"
   ]
  },
  {
   "cell_type": "code",
   "execution_count": null,
   "metadata": {
    "scrolled": false
   },
   "outputs": [],
   "source": [
    "%%time\n",
    "df = clear_df(df)\n",
    "\n",
    "LAST_DAY = df.created_at.max()\n",
    "LAST_DAY"
   ]
  },
  {
   "cell_type": "code",
   "execution_count": null,
   "metadata": {},
   "outputs": [],
   "source": [
    "%%time\n",
    "df_time = make_df_time(df)\n",
    "df = df.merge(df_time, how=\"left\", left_index=True, right_index=True)"
   ]
  },
  {
   "cell_type": "code",
   "execution_count": null,
   "metadata": {},
   "outputs": [],
   "source": [
    "# %%time\n",
    "# df_driver = make_aggs(df, \"driver_id\", 30)\n",
    "# %%time\n",
    "# df_user = make_aggs(df, \"user_id\", 10)\n",
    "# df = df.merge(df_driver, how=\"left\", left_on=\"driver_id\", right_index=True)\n",
    "# df = df.merge(df_user, how=\"left\", left_on=\"user_id\", right_index=True)"
   ]
  },
  {
   "cell_type": "code",
   "execution_count": null,
   "metadata": {
    "scrolled": false
   },
   "outputs": [],
   "source": [
    "df.dropna(0, inplace=True)\n",
    "df_cell = make_aggs(df, \"cell_id\", 26, LAST_DAY)\n",
    "df = df[df.cell_id.isin(df_cell.index)]\n",
    "df.to_csv(\"new_csv.csv\")"
   ]
  },
  {
   "cell_type": "code",
   "execution_count": null,
   "metadata": {},
   "outputs": [],
   "source": [
    "df_cell[\"all_cell_id_canceled_by_client_count\"]"
   ]
  },
  {
   "cell_type": "code",
   "execution_count": null,
   "metadata": {},
   "outputs": [],
   "source": [
    "df.shape"
   ]
  },
  {
   "cell_type": "code",
   "execution_count": null,
   "metadata": {},
   "outputs": [],
   "source": []
  },
  {
   "cell_type": "code",
   "execution_count": null,
   "metadata": {},
   "outputs": [],
   "source": [
    "center = list(df_cell.index)\n",
    "center_size = len(center)"
   ]
  },
  {
   "cell_type": "code",
   "execution_count": null,
   "metadata": {},
   "outputs": [],
   "source": [
    "df_ = df[df[\"cell_id\"].isin(center)]"
   ]
  },
  {
   "cell_type": "code",
   "execution_count": null,
   "metadata": {},
   "outputs": [],
   "source": [
    "from datetime import timedelta\n",
    "\n",
    "from keras.utils import to_categorical"
   ]
  },
  {
   "cell_type": "code",
   "execution_count": null,
   "metadata": {},
   "outputs": [],
   "source": [
    "day = LAST_DAY.date()\n",
    "day = day - timedelta(0)"
   ]
  },
  {
   "cell_type": "code",
   "execution_count": null,
   "metadata": {
    "scrolled": true
   },
   "outputs": [],
   "source": [
    "day_nums = 30\n",
    "X = []\n",
    "y = np.zeros((24, day_nums, center_size))\n",
    "for k in range(0, day_nums):\n",
    "    day = LAST_DAY.date() - timedelta(k + 22)\n",
    "    redundant_cols=[\"hour\", \"minute\", \"final_time\"]\n",
    "\n",
    "    df__time = make_df_time(pd.DataFrame({\"created_at\": [pd.Timestamp(day)]}))\n",
    "    df__time.drop(redundant_cols, axis=1, inplace=True)\n",
    "    df__time = np.int16(np.concatenate((to_categorical(df__time[\"month\"], 12)[0],\n",
    "                   to_categorical(df__time[\"dayofweek\"], 7)[0],\n",
    "                   df__time.drop([\"month\", \"dayofweek\"], axis=1).values[0])))\n",
    "    \n",
    "    \n",
    "    res = make_aggs(df_, \"cell_id\", 0, day).values.reshape(1, -1)[0]\n",
    "    X.append(np.concatenate((df__time, res)).reshape(1, -1))\n",
    "    \n",
    "    group = df_[df_.created_at.dt.date == day].groupby([\"final_time\", \"cell_id\"]).created_at.count()\n",
    "    for i in range(24):\n",
    "        for j, cell in enumerate(center):\n",
    "            if i in group:\n",
    "                if cell in group.loc[i]:\n",
    "                    y[i][k][j] = group.loc[i, cell]"
   ]
  },
  {
   "cell_type": "code",
   "execution_count": null,
   "metadata": {},
   "outputs": [],
   "source": [
    "X = np.array(X)\n",
    "X.shape"
   ]
  },
  {
   "cell_type": "code",
   "execution_count": null,
   "metadata": {},
   "outputs": [],
   "source": [
    "y.shape"
   ]
  },
  {
   "cell_type": "code",
   "execution_count": null,
   "metadata": {},
   "outputs": [],
   "source": [
    "from keras.layers import Dense, Flatten, LSTM, Input, BatchNormalization, Dropout\n",
    "from keras.models import Model\n",
    "import keras.backend as K "
   ]
  },
  {
   "cell_type": "code",
   "execution_count": null,
   "metadata": {},
   "outputs": [],
   "source": [
    "inp = Input(tuple(X.shape[1:]))\n",
    "lstm1 = LSTM(units=128, activation=\"relu\", return_sequences=True)(inp)\n",
    "# lstm2 = LSTM(units=128, activation=\"relu\", return_sequences=True)(lstm1)\n",
    "outs= []\n",
    "for i in range(y.shape[0]):\n",
    "    flt = Flatten()(lstm1)\n",
    "    dns = Dense(units=128, activation=\"relu\")(flt)\n",
    "    bn = BatchNormalization()(dns)\n",
    "    outs.append(Dense(center_size, activation=\"relu\")(bn))\n",
    "model = Model(inp, outs)"
   ]
  },
  {
   "cell_type": "code",
   "execution_count": null,
   "metadata": {
    "scrolled": true
   },
   "outputs": [],
   "source": [
    "model.summary()"
   ]
  },
  {
   "cell_type": "code",
   "execution_count": null,
   "metadata": {},
   "outputs": [],
   "source": [
    "from keras.metrics import mean_squared_logarithmic_error"
   ]
  },
  {
   "cell_type": "code",
   "execution_count": null,
   "metadata": {},
   "outputs": [],
   "source": [
    "model = Model(inp, outs)\n",
    "def rmsle(y_true, y_pred):\n",
    "        return K.sqrt(K.mean(K.square(K.log(y_pred + 1.) - K.log(y_true + 1.)), axis=-1)) \n",
    "\n",
    "model.compile(optimizer = \"adam\", loss = mean_squared_logarithmic_error, metrics =[\"accuracy\"])"
   ]
  },
  {
   "cell_type": "code",
   "execution_count": null,
   "metadata": {
    "scrolled": true
   },
   "outputs": [],
   "source": [
    "model.fit(X, list(y), batch_size=2, epochs=10000)"
   ]
  }
 ],
 "metadata": {
  "kernelspec": {
   "display_name": "Python 3",
   "language": "python",
   "name": "python3"
  },
  "language_info": {
   "codemirror_mode": {
    "name": "ipython",
    "version": 3
   },
   "file_extension": ".py",
   "mimetype": "text/x-python",
   "name": "python",
   "nbconvert_exporter": "python",
   "pygments_lexer": "ipython3",
   "version": "3.6.4"
  }
 },
 "nbformat": 4,
 "nbformat_minor": 2
}
